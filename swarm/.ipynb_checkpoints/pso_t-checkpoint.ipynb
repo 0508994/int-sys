{
 "cells": [
  {
   "cell_type": "code",
   "execution_count": 4,
   "metadata": {
    "collapsed": true
   },
   "outputs": [],
   "source": [
    "import iris\n",
    "import sys\n",
    "import importlib\n",
    "import numpy as np\n",
    "from random import random, uniform\n",
    "from copy import deepcopy"
   ]
  },
  {
   "cell_type": "code",
   "execution_count": 80,
   "metadata": {},
   "outputs": [
    {
     "data": {
      "text/plain": [
       "<module 'iris' from 'E:\\\\REPOS\\\\int_sys\\\\swarm\\\\iris.py'>"
      ]
     },
     "execution_count": 80,
     "metadata": {},
     "output_type": "execute_result"
    }
   ],
   "source": [
    "importlib.reload(iris)"
   ]
  },
  {
   "cell_type": "code",
   "execution_count": 55,
   "metadata": {
    "collapsed": true
   },
   "outputs": [],
   "source": [
    "class Particle:\n",
    "    def __init__(self, X_train, y_train, min_w=-5.0, max_w=5.0, c1 = 1.49445, c2 = 1.49445, w = 0.729):\n",
    "        self.min_w = min_w\n",
    "        self.max_w = max_w\n",
    "        self.c1 = c1\n",
    "        self.c2 = c2\n",
    "        self.w = w\n",
    "        \n",
    "        nn = iris.IrisNN(gen_randomly=True) # 4-6-3 neural net with randomly generated parameters\n",
    "        self.position = nn.merge_params()     \n",
    "        self.init_velocity()\n",
    "        #self.velocity = np.random.uniform(self.min_w / 2.0, self.max_w / 2.0, size=len(self.position))\n",
    "        self.fitness = nn.compute_mse(X_train, y_train)\n",
    "        self.pbest = deepcopy([self.position, self.fitness])\n",
    "    \n",
    "    # t.random Microsoft guy\n",
    "    def init_velocity(self):\n",
    "        lo = 0.1 * self.min_w;\n",
    "        hi = 0.1 * self.max_w;\n",
    "        self.velocity = np.zeros(len(self.position))\n",
    "        for i in range(0, len(self.position)):\n",
    "            self.velocity[i] = (hi - lo) * random() + lo;\n",
    "     \n",
    "    def compute_fitness(self, X_train, y_train):\n",
    "        nn = iris.IrisNN()\n",
    "        nn.unpack_params(self.position)\n",
    "        self.fitness = nn.compute_mse(X_train, y_train)\n",
    "        if self.fitness < self.pbest[1]:\n",
    "            self.pbest = deepcopy([self.position, self.fitness])\n",
    "            \n",
    "    def update(self, gbest):\n",
    "        self.velocity = (self.w * self.velocity) \\\n",
    "                                      + (random() * self.c1 * (self.pbest[0] - self.position))\\\n",
    "                                      + (random() * self.c2 * (gbest[0] - self.position))\n",
    "            \n",
    "        self.position += self.velocity\n",
    "        self.position[self.position < self.min_w] = self.min_w\n",
    "        self.position[self.position > self.max_w] = self.max_w\n",
    "        "
   ]
  },
  {
   "cell_type": "code",
   "execution_count": 56,
   "metadata": {
    "collapsed": true
   },
   "outputs": [],
   "source": [
    "class PSO:\n",
    "    def __init__(self, swarm_size=12, epochs=700, use_subset=False, subset=[24, 6]):\n",
    "        if swarm_size < 1 or epochs < 0 or len(subset) != 2:\n",
    "            print('Invalid input.Exiting..')\n",
    "            sys.exit(-1)\n",
    "        self.swarm_size = swarm_size\n",
    "        self.epochs = epochs\n",
    "        self.df = iris.IrisDF()\n",
    "        if use_subset:\n",
    "            self.df.subset(subset[0], subset[1])\n",
    "        self.gen_random_swarm()\n",
    "    \n",
    "    def gen_random_swarm(self):\n",
    "        self.swarm = []\n",
    "        self.swarm.append(Particle(self.df.X_train, self.df.y_train))\n",
    "        self.gbest = self.swarm[0].pbest\n",
    "        for i in range(1, self.swarm_size):\n",
    "            p = Particle(self.df.X_train, self.df.y_train)\n",
    "            if p.pbest[1] < self.gbest[1]:\n",
    "                self.gbest = p.pbest\n",
    "            self.swarm.append(p)\n",
    "        \n",
    "    def optimize(self):\n",
    "        for i in range(0, self.epochs):\n",
    "            for p in self.swarm:\n",
    "                # update velocity and position\n",
    "                p.update(self.gbest)\n",
    "                # update fitness and eventualy pbest\n",
    "                p.compute_fitness(self.df.X_train, self.df.y_train)\n",
    "                # update gbest\n",
    "                if p.pbest[1] < self.gbest[1]:\n",
    "                    self.gbest = p.pbest\n",
    "            if i % 100 == 0:\n",
    "                print('Epoch {} with gbest mse of {}.'.format(i, self.gbest[1]))\n",
    "                    \n",
    "    def show_accuracy(self):\n",
    "        nn = iris.IrisNN()\n",
    "        nn.unpack_params(self.gbest[0])\n",
    "        acc_train = nn.compute_accuracy(self.df.X_train, self.df.y_train)\n",
    "        acc_test = nn.compute_accuracy(self.df.X_test, self.df.y_test)\n",
    "        print(\"Accuracy on training set: {}\".format(acc_train))\n",
    "        print(\"Accuracy on test set: {}\".format(acc_test))\n",
    "    "
   ]
  },
  {
   "cell_type": "code",
   "execution_count": 57,
   "metadata": {},
   "outputs": [
    {
     "name": "stdout",
     "output_type": "stream",
     "text": [
      "Epoch 0 with gbest mse of 0.6647848837214679.\n",
      "Epoch 100 with gbest mse of 0.29948512150396933.\n",
      "Epoch 200 with gbest mse of 0.26241214834969734.\n",
      "Epoch 300 with gbest mse of 0.2583472292513328.\n",
      "Epoch 400 with gbest mse of 0.2582455567183088.\n",
      "Epoch 500 with gbest mse of 0.2576846178684554.\n",
      "Epoch 600 with gbest mse of 0.25767666558460955.\n"
     ]
    }
   ],
   "source": [
    "pso = PSO()\n",
    "pso.optimize()"
   ]
  },
  {
   "cell_type": "code",
   "execution_count": 58,
   "metadata": {},
   "outputs": [
    {
     "name": "stdout",
     "output_type": "stream",
     "text": [
      "Accuracy on training set: 0.8761904761904762\n",
      "Accuracy on test set: 0.9333333333333333\n"
     ]
    }
   ],
   "source": [
    "pso.show_accuracy()"
   ]
  },
  {
   "cell_type": "code",
   "execution_count": 59,
   "metadata": {},
   "outputs": [
    {
     "name": "stdout",
     "output_type": "stream",
     "text": [
      "0.257676593569\n",
      "0.257676593583\n",
      "0.25767659345\n",
      "0.257676593626\n",
      "0.257676593471\n",
      "0.257676593691\n",
      "0.257676593508\n",
      "0.257676593685\n",
      "0.257676593468\n",
      "0.257676593457\n",
      "0.257676593638\n",
      "0.257676593468\n"
     ]
    }
   ],
   "source": [
    "for p in pso.swarm: print(p.pbest[1])"
   ]
  }
 ],
 "metadata": {
  "kernelspec": {
   "display_name": "Python 3",
   "language": "python",
   "name": "python3"
  },
  "language_info": {
   "codemirror_mode": {
    "name": "ipython",
    "version": 3
   },
   "file_extension": ".py",
   "mimetype": "text/x-python",
   "name": "python",
   "nbconvert_exporter": "python",
   "pygments_lexer": "ipython3",
   "version": "3.6.3"
  }
 },
 "nbformat": 4,
 "nbformat_minor": 2
}
