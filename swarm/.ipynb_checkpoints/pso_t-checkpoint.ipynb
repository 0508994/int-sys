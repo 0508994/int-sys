{
 "cells": [
  {
   "cell_type": "code",
   "execution_count": 28,
   "metadata": {
    "collapsed": true
   },
   "outputs": [],
   "source": [
    "import iris\n",
    "import sys\n",
    "import importlib\n",
    "import numpy as np\n",
    "from random import random, uniform\n",
    "from copy import deepcopy"
   ]
  },
  {
   "cell_type": "code",
   "execution_count": 80,
   "metadata": {},
   "outputs": [
    {
     "data": {
      "text/plain": [
       "<module 'iris' from 'E:\\\\REPOS\\\\int_sys\\\\swarm\\\\iris.py'>"
      ]
     },
     "execution_count": 80,
     "metadata": {},
     "output_type": "execute_result"
    }
   ],
   "source": [
    "importlib.reload(iris)"
   ]
  },
  {
   "cell_type": "code",
   "execution_count": 121,
   "metadata": {},
   "outputs": [],
   "source": [
    "class Particle:\n",
    "    def __init__(self, X_train, y_train, min_X=-10, max_X=10, c1 = 1.49445, c2 = 1.49445, w = 0.729):\n",
    "        self.min_X = min_X\n",
    "        self.max_X = max_X\n",
    "        self.c1 = c1\n",
    "        self.c2 = c2\n",
    "        self.w = w\n",
    "        \n",
    "        nn = iris.IrisNN(gen_randomly=True) # 4-6-3 neural net with randomly generated parameters\n",
    "        self.position = nn.merge_params()     \n",
    "        self.init_velocity()\n",
    "        self.fitness = nn.compute_mse(X_train, y_train)\n",
    "        self.pbest = deepcopy([self.position, self.fitness])\n",
    "    \n",
    "    # t.random Microsoft guy\n",
    "    def init_velocity(self):\n",
    "        lo = 0.1 * self.min_X;\n",
    "        hi = 0.1 * self.max_X;\n",
    "        self.velocity = np.zeros(len(self.position))\n",
    "        for i in range(0, len(self.position)):\n",
    "            self.velocity[i] = (hi - lo) * random() + lo;\n",
    "     \n",
    "    def compute_fitness(self, X_train, y_train):\n",
    "        nn = iris.IrisNN()\n",
    "        nn.unpack_params(self.position)\n",
    "        self.fitness = nn.compute_mse(X_train, y_train)\n",
    "        if self.fitness < self.pbest[1]:\n",
    "            self.pbest = deepcopy([self.position, self.fitness])\n",
    "            \n",
    "    def update(self, gbest):\n",
    "        self.velocity = (self.w * self.velocity) \\\n",
    "                                      + (random() * self.c1 * (self.pbest[0] - self.position))\\\n",
    "                                      + (random() * self.c2 * (gbest[0] - self.position))\n",
    "            \n",
    "        self.position += self.velocity\n",
    "        self.position[self.position < -10.0] = -10.0\n",
    "        self.position[self.position > 10.0] = 10.0\n",
    "        "
   ]
  },
  {
   "cell_type": "code",
   "execution_count": 125,
   "metadata": {},
   "outputs": [],
   "source": [
    "class PSO:\n",
    "    def __init__(self, swarm_size=12, epochs=700, use_subset=False, subset=[24, 6]):\n",
    "        if swarm_size < 1 or epochs < 0 or len(subset) != 2:\n",
    "            print('Invalid input.Exiting..')\n",
    "            sys.exit(-1)\n",
    "        self.swarm_size = swarm_size\n",
    "        self.epochs = epochs\n",
    "        self.df = iris.IrisDF()\n",
    "        if use_subset:\n",
    "            self.df.subset(subset[0], subset[1])\n",
    "        self.gen_random_swarm()\n",
    "    \n",
    "    def gen_random_swarm(self):\n",
    "        self.swarm = []\n",
    "        self.swarm.append(Particle(self.df.X_train, self.df.y_train))\n",
    "        self.gbest = swarm[0].pbest\n",
    "        for i in range(1, self.swarm_size):\n",
    "            p = Particle(self.df.X_train, self.df.y_train)\n",
    "            if p.pbest[1] < self.gbest[1]:\n",
    "                self.gbest = p.pbest\n",
    "            self.swarm.append(p)\n",
    "        \n",
    "    def optimize(self):\n",
    "        for i in range(0, self.epochs):\n",
    "            for p in self.swarm:\n",
    "                # update velocity and position\n",
    "                p.update(self.gbest)\n",
    "                # update fitness and eventualy pbest\n",
    "                p.compute_fitness(self.df.X_train, self.df.y_train)\n",
    "                # update gbest\n",
    "                if(i % 100 == 0): print(p.pbest[1])\n",
    "                if p.pbest[1] < self.gbest[1]:\n",
    "                    self.gbest = p.pbest\n",
    "            if i % 100 == 0:\n",
    "                print('Epoch {} with gbest mse of {}.'.format(i, self.gbest[1]))\n",
    "                    \n",
    "    def show_accuracy(self):\n",
    "        nn = iris.IrisNN()\n",
    "        nn.unpack_params(gbest[0])\n",
    "        acc = nn.compute_accuracy(self.df.X_test, self.df.y_test)\n",
    "        print(\"Maximal achieved accuracy is {}\".format(acc))\n",
    "    "
   ]
  },
  {
   "cell_type": "code",
   "execution_count": 134,
   "metadata": {},
   "outputs": [
    {
     "name": "stdout",
     "output_type": "stream",
     "text": [
      "0.766914253531\n",
      "0.675978169355\n",
      "0.768810620326\n",
      "0.786268846314\n",
      "0.690645909353\n",
      "0.739510263878\n",
      "0.726256820822\n",
      "0.662206229506\n",
      "0.722030305624\n",
      "0.729272663291\n",
      "0.672150870229\n",
      "0.681309471239\n",
      "Epoch 0 with gbest mse of 0.6622062295063361.\n",
      "0.307227004082\n",
      "0.307218424491\n",
      "0.308177980899\n",
      "0.309061849904\n",
      "0.307336080573\n",
      "0.310220665836\n",
      "0.307312997457\n",
      "0.307347777512\n",
      "0.307629062152\n",
      "0.307241665822\n",
      "0.307235764699\n",
      "0.307553930916\n",
      "Epoch 100 with gbest mse of 0.307218424490515.\n",
      "0.300413978052\n",
      "0.300646604737\n",
      "0.300592355075\n",
      "0.300475250923\n",
      "0.300671327344\n",
      "0.301199342135\n",
      "0.302964800873\n",
      "0.30043305131\n",
      "0.300473893165\n",
      "0.300658580984\n",
      "0.300589101894\n",
      "0.300379989825\n",
      "Epoch 200 with gbest mse of 0.30037998982467795.\n",
      "0.170305658628\n",
      "0.170261389032\n",
      "0.170246540537\n",
      "0.170273831276\n",
      "0.17029450259\n",
      "0.170263201093\n",
      "0.170243920445\n",
      "0.170280123167\n",
      "0.170216326574\n",
      "0.170267781638\n",
      "0.170197111003\n",
      "0.170228982754\n",
      "Epoch 300 with gbest mse of 0.17019711100308396.\n",
      "0.133278133351\n",
      "0.133257238097\n",
      "0.133252348537\n",
      "0.133251099444\n",
      "0.133249315591\n",
      "0.133262952321\n",
      "0.133250822181\n",
      "0.133258503708\n",
      "0.133263184807\n",
      "0.133284658082\n",
      "0.133264695216\n",
      "0.133298531091\n",
      "Epoch 400 with gbest mse of 0.13324931559055436.\n",
      "0.133105199442\n",
      "0.133105216627\n",
      "0.13310519924\n",
      "0.1331052027\n",
      "0.133105199214\n",
      "0.133105200418\n",
      "0.133105201205\n",
      "0.133105199159\n",
      "0.13310519906\n",
      "0.133105200195\n",
      "0.133105250701\n",
      "0.133105199113\n",
      "Epoch 500 with gbest mse of 0.13310519906019685.\n",
      "0.133105195851\n",
      "0.133105195851\n",
      "0.133105195851\n",
      "0.133105195851\n",
      "0.133105195851\n",
      "0.133105195851\n",
      "0.133105195851\n",
      "0.133105195851\n",
      "0.133105195851\n",
      "0.133105195851\n",
      "0.133105195851\n",
      "0.133105195851\n",
      "Epoch 600 with gbest mse of 0.1331051958514626.\n"
     ]
    }
   ],
   "source": [
    "pso = PSO()\n",
    "pso.optimize()"
   ]
  },
  {
   "cell_type": "code",
   "execution_count": 135,
   "metadata": {},
   "outputs": [
    {
     "name": "stdout",
     "output_type": "stream",
     "text": [
      "Maximal achieved accuracy is 0.24444444444444444\n"
     ]
    }
   ],
   "source": [
    "pso.show_accuracy()"
   ]
  },
  {
   "cell_type": "code",
   "execution_count": 136,
   "metadata": {},
   "outputs": [
    {
     "name": "stdout",
     "output_type": "stream",
     "text": [
      "Maximal achieved accuracy is 0.9619047619047619\n"
     ]
    }
   ],
   "source": [
    "nn = iris.IrisNN()\n",
    "nn.unpack_params(pso.gbest[0])\n",
    "acc = nn.compute_accuracy(pso.df.X_train, pso.df.y_train)\n",
    "print(\"Maximal achieved accuracy is {}\".format(acc))"
   ]
  }
 ],
 "metadata": {
  "kernelspec": {
   "display_name": "Python 3",
   "language": "python",
   "name": "python3"
  },
  "language_info": {
   "codemirror_mode": {
    "name": "ipython",
    "version": 3
   },
   "file_extension": ".py",
   "mimetype": "text/x-python",
   "name": "python",
   "nbconvert_exporter": "python",
   "pygments_lexer": "ipython3",
   "version": "3.6.3"
  }
 },
 "nbformat": 4,
 "nbformat_minor": 2
}
