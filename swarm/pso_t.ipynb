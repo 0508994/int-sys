{
 "cells": [
  {
   "cell_type": "code",
   "execution_count": 10,
   "metadata": {},
   "outputs": [],
   "source": [
    "import iris"
   ]
  },
  {
   "cell_type": "code",
   "execution_count": 26,
   "metadata": {},
   "outputs": [
    {
     "data": {
      "text/plain": [
       "<module 'Iris' from 'E:\\\\REPOS\\\\int_sys\\\\swarm\\\\Iris.py'>"
      ]
     },
     "execution_count": 26,
     "metadata": {},
     "output_type": "execute_result"
    }
   ],
   "source": [
    "import importlib\n",
    "importlib.reload(iris)"
   ]
  },
  {
   "cell_type": "code",
   "execution_count": 12,
   "metadata": {},
   "outputs": [
    {
     "name": "stdout",
     "output_type": "stream",
     "text": [
      "[[ 0.1178485   0.16079573  0.17878259  0.11053541  0.21569607  0.21634171]\n",
      " [ 0.22102079  0.18365881  0.22444359  0.10713691  0.1671221   0.0966178 ]\n",
      " [ 0.1063425   0.09038538  0.23754115  0.14542505  0.22906536  0.19124056]\n",
      " [ 0.0919226   0.19877088  0.20524326  0.23353816  0.09636597  0.17415913]]\n",
      "\n",
      "[[ 0.1178485   0.16079573  0.17878259  0.11053541  0.21569607  0.21634171]\n",
      " [ 0.22102079  0.18365881  0.22444359  0.10713691  0.1671221   0.0966178 ]\n",
      " [ 0.1063425   0.09038538  0.23754115  0.14542505  0.22906536  0.19124056]\n",
      " [ 0.0919226   0.19877088  0.20524326  0.23353816  0.09636597  0.17415913]]\n"
     ]
    }
   ],
   "source": [
    "nn = NeuralNetwork.IrisNN()\n",
    "\n",
    "z = nn.W1\n",
    "print(nn.softmax(z))\n",
    "\n",
    "from sklearn.utils.extmath import softmax\n",
    "\n",
    "print()\n",
    "\n",
    "print(softmax(z))"
   ]
  },
  {
   "cell_type": "code",
   "execution_count": 14,
   "metadata": {},
   "outputs": [
    {
     "name": "stdout",
     "output_type": "stream",
     "text": [
      "[0 0 0 0 0 0 0 0 0 0 0 0 0 0 0 0 0 0 0 0 0 0 0 0 0 0 0 0 0 0 0 0 0 0 0 0 0\n",
      " 0 0 0 0 0 0 0 0 0 0 0 0 0 1 1 1 1 1 1 1 1 1 1 1 1 1 1 1 1 1 1 1 1 1 1 1 1\n",
      " 1 1 1 1 1 1 1 1 1 1 1 1 1 1 1 1 1 1 1 1 1 1 1 1 1 1 2 2 2 2 2 2 2 2 2 2 2\n",
      " 2 2 2 2 2 2 2 2 2 2 2 2 2 2 2 2 2 2 2 2 2 2 2 2 2 2 2 2 2 2 2 2 2 2 2 2 2\n",
      " 2 2]\n"
     ]
    }
   ],
   "source": [
    "from sklearn import datasets\n",
    "\n",
    "df = datasets.load_iris()\n",
    "print(df.target)"
   ]
  },
  {
   "cell_type": "code",
   "execution_count": 29,
   "metadata": {},
   "outputs": [
    {
     "name": "stdout",
     "output_type": "stream",
     "text": [
      "24\n"
     ]
    }
   ],
   "source": [
    "df = Iris.IrisDF()\n",
    "\n",
    "df.subset()\n",
    "print(len(df.X_train))"
   ]
  },
  {
   "cell_type": "code",
   "execution_count": null,
   "metadata": {
    "collapsed": true
   },
   "outputs": [],
   "source": []
  }
 ],
 "metadata": {
  "kernelspec": {
   "display_name": "Python 3",
   "language": "python",
   "name": "python3"
  },
  "language_info": {
   "codemirror_mode": {
    "name": "ipython",
    "version": 3
   },
   "file_extension": ".py",
   "mimetype": "text/x-python",
   "name": "python",
   "nbconvert_exporter": "python",
   "pygments_lexer": "ipython3",
   "version": "3.6.3"
  }
 },
 "nbformat": 4,
 "nbformat_minor": 2
}
