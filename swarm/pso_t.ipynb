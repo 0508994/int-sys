{
 "cells": [
  {
   "cell_type": "code",
   "execution_count": 1,
   "metadata": {
    "collapsed": true
   },
   "outputs": [],
   "source": [
    "import iris\n",
    "import sys\n",
    "import importlib\n",
    "import numpy as np\n",
    "from random import random, uniform\n",
    "from copy import deepcopy"
   ]
  },
  {
   "cell_type": "code",
   "execution_count": 80,
   "metadata": {},
   "outputs": [
    {
     "data": {
      "text/plain": [
       "<module 'iris' from 'E:\\\\REPOS\\\\int_sys\\\\swarm\\\\iris.py'>"
      ]
     },
     "execution_count": 80,
     "metadata": {},
     "output_type": "execute_result"
    }
   ],
   "source": [
    "importlib.reload(iris)"
   ]
  },
  {
   "cell_type": "code",
   "execution_count": 2,
   "metadata": {
    "collapsed": true
   },
   "outputs": [],
   "source": [
    "class Particle:\n",
    "    def __init__(self, X_train, y_train, min_w=-5.0, max_w=5.0, c1 = 1.49445, c2 = 1.49445, w = 0.729):\n",
    "        self.min_w = min_w\n",
    "        self.max_w = max_w\n",
    "        self.c1 = c1\n",
    "        self.c2 = c2\n",
    "        self.w = w\n",
    "        \n",
    "        nn = iris.IrisNN(gen_randomly=True) # 4-6-3 neural net with randomly generated parameters\n",
    "        self.position = nn.merge_params()     \n",
    "        self.init_velocity()\n",
    "        #self.velocity = np.random.uniform(self.min_w / 2.0, self.max_w / 2.0, size=len(self.position))\n",
    "        self.fitness = nn.compute_mse(X_train, y_train)\n",
    "        self.pbest = deepcopy([self.position, self.fitness])\n",
    "    \n",
    "    # t.random Microsoft guy\n",
    "    def init_velocity(self):\n",
    "        lo = 0.1 * self.min_w;\n",
    "        hi = 0.1 * self.max_w;\n",
    "        self.velocity = np.zeros(len(self.position))\n",
    "        for i in range(0, len(self.position)):\n",
    "            self.velocity[i] = (hi - lo) * random() + lo;\n",
    "     \n",
    "    def compute_fitness(self, X_train, y_train):\n",
    "        nn = iris.IrisNN()\n",
    "        nn.unpack_params(self.position)\n",
    "        self.fitness = nn.compute_mse(X_train, y_train)\n",
    "        if self.fitness < self.pbest[1]:\n",
    "            self.pbest = deepcopy([self.position, self.fitness])\n",
    "            \n",
    "    def update(self, gbest):\n",
    "        self.velocity = (self.w * self.velocity) \\\n",
    "                                      + (random() * self.c1 * (self.pbest[0] - self.position))\\\n",
    "                                      + (random() * self.c2 * (gbest[0] - self.position))\n",
    "            \n",
    "        self.position += self.velocity\n",
    "        self.position[self.position < self.min_w] = self.min_w\n",
    "        self.position[self.position > self.max_w] = self.max_w\n",
    "        "
   ]
  },
  {
   "cell_type": "code",
   "execution_count": 3,
   "metadata": {
    "collapsed": true
   },
   "outputs": [],
   "source": [
    "class PSO:\n",
    "    def __init__(self, swarm_size=12, epochs=700):\n",
    "        if swarm_size < 1 or epochs < 0:\n",
    "            print('Invalid input.Exiting..')\n",
    "            sys.exit(-1)\n",
    "        self.swarm_size = swarm_size\n",
    "        self.epochs = epochs\n",
    "        self.df = iris.IrisDF()\n",
    "        self.gen_random_swarm()\n",
    "    \n",
    "    def gen_random_swarm(self):\n",
    "        self.swarm = []\n",
    "        self.swarm.append(Particle(self.df.X_train, self.df.y_train))\n",
    "        self.gbest = self.swarm[0].pbest\n",
    "        for i in range(1, self.swarm_size):\n",
    "            p = Particle(self.df.X_train, self.df.y_train)\n",
    "            if p.pbest[1] < self.gbest[1]:\n",
    "                self.gbest = p.pbest\n",
    "            self.swarm.append(p)\n",
    "        \n",
    "    def optimize(self):\n",
    "        for i in range(0, self.epochs):\n",
    "            for p in self.swarm:\n",
    "                # update velocity and position\n",
    "                p.update(self.gbest)\n",
    "                # update fitness and eventualy pbest\n",
    "                p.compute_fitness(self.df.X_train, self.df.y_train)\n",
    "                # update gbest\n",
    "                if p.pbest[1] < self.gbest[1]:\n",
    "                    self.gbest = p.pbest\n",
    "            if i % 100 == 0:\n",
    "                print('Epoch {} with gbest mse of {}.'.format(i, self.gbest[1]))\n",
    "                    \n",
    "    def show_accuracy(self):\n",
    "        nn = iris.IrisNN()\n",
    "        nn.unpack_params(self.gbest[0])\n",
    "        acc_train = nn.compute_accuracy(self.df.X_train, self.df.y_train)\n",
    "        acc_test = nn.compute_accuracy(self.df.X_test, self.df.y_test)\n",
    "        print(\"Accuracy on training set: {}\".format(acc_train))\n",
    "        print(\"Accuracy on test set: {}\".format(acc_test))\n",
    "    "
   ]
  },
  {
   "cell_type": "code",
   "execution_count": 24,
   "metadata": {},
   "outputs": [
    {
     "name": "stdout",
     "output_type": "stream",
     "text": [
      "Epoch 0 with gbest mse of 0.6708587315718885.\n",
      "Epoch 100 with gbest mse of 0.2005500613720833.\n",
      "Epoch 200 with gbest mse of 0.20025701335833246.\n",
      "Epoch 300 with gbest mse of 0.20025666515741075.\n",
      "Epoch 400 with gbest mse of 0.2002565402650984.\n",
      "Epoch 500 with gbest mse of 0.20025653883955272.\n",
      "Epoch 600 with gbest mse of 0.20025652889646983.\n"
     ]
    }
   ],
   "source": [
    "pso = PSO()\n",
    "pso.optimize()"
   ]
  },
  {
   "cell_type": "code",
   "execution_count": 25,
   "metadata": {},
   "outputs": [
    {
     "name": "stdout",
     "output_type": "stream",
     "text": [
      "Accuracy on training set: 0.9714285714285714\n",
      "Accuracy on test set: 0.9555555555555556\n"
     ]
    }
   ],
   "source": [
    "pso.show_accuracy()"
   ]
  },
  {
   "cell_type": "code",
   "execution_count": 26,
   "metadata": {},
   "outputs": [
    {
     "name": "stdout",
     "output_type": "stream",
     "text": [
      "0.200256528896\n",
      "0.200256528896\n",
      "0.200256528896\n",
      "0.200256528896\n",
      "0.200256528896\n",
      "0.200256528896\n",
      "0.200256528896\n",
      "0.200256528896\n",
      "0.200256528896\n",
      "0.200256528896\n",
      "0.200256528896\n",
      "0.200256528896\n"
     ]
    }
   ],
   "source": [
    "for p in pso.swarm: print(p.pbest[1])"
   ]
  }
 ],
 "metadata": {
  "kernelspec": {
   "display_name": "Python 3",
   "language": "python",
   "name": "python3"
  },
  "language_info": {
   "codemirror_mode": {
    "name": "ipython",
    "version": 3
   },
   "file_extension": ".py",
   "mimetype": "text/x-python",
   "name": "python",
   "nbconvert_exporter": "python",
   "pygments_lexer": "ipython3",
   "version": "3.6.3"
  }
 },
 "nbformat": 4,
 "nbformat_minor": 2
}
