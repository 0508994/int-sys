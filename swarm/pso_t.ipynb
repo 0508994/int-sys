{
 "cells": [
  {
   "cell_type": "code",
   "execution_count": 4,
   "metadata": {
    "collapsed": true
   },
   "outputs": [],
   "source": [
    "import iris"
   ]
  },
  {
   "cell_type": "code",
   "execution_count": 80,
   "metadata": {},
   "outputs": [
    {
     "data": {
      "text/plain": [
       "<module 'iris' from 'E:\\\\REPOS\\\\int_sys\\\\swarm\\\\iris.py'>"
      ]
     },
     "execution_count": 80,
     "metadata": {},
     "output_type": "execute_result"
    }
   ],
   "source": [
    "import importlib\n",
    "importlib.reload(iris)"
   ]
  },
  {
   "cell_type": "code",
   "execution_count": 64,
   "metadata": {
    "collapsed": true
   },
   "outputs": [],
   "source": [
    "df = iris.IrisDF()\n",
    "df.subset(test=10)"
   ]
  },
  {
   "cell_type": "code",
   "execution_count": 61,
   "metadata": {},
   "outputs": [],
   "source": [
    "nn = iris.IrisNN()"
   ]
  },
  {
   "cell_type": "code",
   "execution_count": 62,
   "metadata": {},
   "outputs": [
    {
     "name": "stdout",
     "output_type": "stream",
     "text": [
      "0.77712715248\n",
      "0.3\n"
     ]
    }
   ],
   "source": [
    "print(nn.compute_mse(df.X_train, df.y_train))\n",
    "print(nn.compute_accuracy(df.X_test, df.y_test))"
   ]
  },
  {
   "cell_type": "code",
   "execution_count": 66,
   "metadata": {
    "collapsed": true
   },
   "outputs": [],
   "source": [
    "class Particle:\n",
    "    def __init__(self, X_train, y_train, min_vel=-0.5, max_vel=0.5):\n",
    "        self.min_vel = min_vel\n",
    "        self.max_vel = max_vel\n",
    "        \n",
    "        nn = iris.IrisNN(gen_randomly=True) # 4-6-3 neural net with randomly generated parameters\n",
    "        self.position = nn.merge_params()     \n",
    "        self.velocity = np.random.uniform(self.min_vel, self.max_vel, size=len(self.position))\n",
    "        self.pbest = nn.compute_mse(X_train, y_train)\n",
    "    \n",
    "    def compute_pbest(self, X_train, y_train):\n",
    "        nn = iris.IrisNN()\n",
    "        nn.unpack_params(self.position)\n",
    "        self.pbest = nn.compute_mse(X_train, y_train)\n",
    "        "
   ]
  },
  {
   "cell_type": "code",
   "execution_count": 81,
   "metadata": {},
   "outputs": [
    {
     "name": "stdout",
     "output_type": "stream",
     "text": [
      "0.665104161782\n",
      "\n",
      "0.665104161782\n"
     ]
    }
   ],
   "source": [
    "p = Particle(df.X_train, df.y_train)\n",
    "print(p.pbest, end='\\n\\n')\n",
    "p.compute_pbest(df.X_train, df.y_train)\n",
    "print(p.pbest)"
   ]
  }
 ],
 "metadata": {
  "kernelspec": {
   "display_name": "Python 3",
   "language": "python",
   "name": "python3"
  },
  "language_info": {
   "codemirror_mode": {
    "name": "ipython",
    "version": 3
   },
   "file_extension": ".py",
   "mimetype": "text/x-python",
   "name": "python",
   "nbconvert_exporter": "python",
   "pygments_lexer": "ipython3",
   "version": "3.6.3"
  }
 },
 "nbformat": 4,
 "nbformat_minor": 2
}
