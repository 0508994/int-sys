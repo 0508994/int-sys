{
 "cells": [
  {
   "cell_type": "code",
   "execution_count": 1,
   "metadata": {
    "collapsed": true
   },
   "outputs": [],
   "source": [
    "from random import randint, uniform\n",
    "\n",
    "class Chromosome:\n",
    "    def __init__(self, n=8, gen_randomly=False, genes=None):\n",
    "        self.n = n\n",
    "        if gen_randomly:\n",
    "            self.genes = []\n",
    "            self.gen_random_chromosome()\n",
    "            self.calc_fitness()\n",
    "        else:\n",
    "            self.genes = genes\n",
    "                  \n",
    "    def gen_random_chromosome(self):\n",
    "        #seed(datetime.now())\n",
    "        for i in range(0, self.n):\n",
    "            self.genes.append(randint(0, self.n - 1))\n",
    "       \n",
    "                    \n",
    "    def calc_fitness(self):\n",
    "        self.fitness = self.n * self.n\n",
    "        for i in range(0, self.n):\n",
    "            for j in range(0, self.n):\n",
    "                if i == j: continue\n",
    "                if (self.genes[i] == self.genes[j]) or \\\n",
    "                   (abs(i - j) == abs(self.genes[i] - self.genes[j])):\n",
    "                        self.fitness = self.fitness - 1\n",
    "                              \n",
    "    def show(self):\n",
    "        for i in range(0, self.n):\n",
    "            for j in range(0, self.n):\n",
    "                if j == self.genes[i]:\n",
    "                    print('Q', end='  ')\n",
    "                else:\n",
    "                    print('-', end='  ')\n",
    "            print()\n",
    "        print()"
   ]
  },
  {
   "cell_type": "code",
   "execution_count": 2,
   "metadata": {},
   "outputs": [
    {
     "data": {
      "image/png": "[encoded data removed]",
      "text/plain": [
       "<IPython.core.display.Image object>"
      ]
     },
     "execution_count": 2,
     "metadata": {},
     "output_type": "execute_result"
    }
   ],
   "source": [
    "from IPython.display import Image\n",
    "Image(filename=\"8-queens.png\")"
   ]
  },
  {
   "cell_type": "code",
   "execution_count": 8,
   "metadata": {
    "collapsed": true
   },
   "outputs": [],
   "source": [
    "def gen_rand_population(chromo_size=8, pop_size=20):\n",
    "    population = []\n",
    "    for i in range(0, pop_size):\n",
    "        c = Chromosome(chromo_size, True)\n",
    "        population.append(c)\n",
    "    return population\n",
    "\n",
    "def sort(population, reverse):\n",
    "    population.sort(key=lambda x: x.fitness, reverse=reverse)\n",
    "\n",
    "def max_fitness(population):\n",
    "    return max(population, key=lambda x: x.fitness)\n",
    "    \n",
    "def prob_distr(population):\n",
    "    accum_f = 0\n",
    "    distribution = []\n",
    "    for c in population:\n",
    "        accum_f += c.fitness\n",
    "    for c in population:\n",
    "        distribution.append(float(c.fitness / accum_f))\n",
    "        \n",
    "#    probs = [sum(distribution[:i + 1]) for i in range(len(distribution))]\n",
    "        \n",
    "    return distribution         "
   ]
  },
  {
   "cell_type": "code",
   "execution_count": 3,
   "metadata": {
    "collapsed": true
   },
   "outputs": [],
   "source": [
    "def crossover(parent1, parent2):\n",
    "    split_index = randint(1, parent1.n - 1)\n",
    "    return Chromosome(n=parent1.n, genes=(parent1.genes[:split_index] + parent2.genes[split_index:])), \\\n",
    "           Chromosome(n=parent1.n, genes=(parent2.genes[:split_index] + parent1.genes[split_index:]))\n",
    "    \n",
    "    \n",
    "def mutate_reorder(chromosome, chance):\n",
    "    if(uniform(0, 1) <= chance):\n",
    "        g_to_mutate = randint(1, chromosome.n)\n",
    "#        print('Mutating {} genes..'.format(g_to_mutate))\n",
    "        while g_to_mutate != 0:\n",
    "            rand_pos1 = randint(0, chromosome.n - 1)\n",
    "            rand_pos2 = randint(0, chromosome.n - 1)\n",
    "            chromosome.genes[rand_pos1], chromosome.genes[rand_pos2] = \\\n",
    "                chromosome.genes[rand_pos2], chromosome.genes[rand_pos1]\n",
    "            g_to_mutate -= 1\n",
    "        return 1\n",
    "    else:\n",
    "        return 0\n",
    "            \n",
    "def mutate_rand_incr(chromosome, chance):\n",
    "      if(uniform(0, 1) <= chance):\n",
    "        g_to_mutate = randint(1, chromosome.n)\n",
    "#        print('Mutating {} genes..'.format(g_to_mutate))\n",
    "        while g_to_mutate != 0:\n",
    "            rand_pos = randint(0, chromosome.n - 1)\n",
    "            incr = randint(0, chromosome.n - 1)\n",
    "            chromosome.genes[rand_pos] = (chromosome.genes[rand_pos] + incr) % (chromosome.n - 1)\n",
    "            g_to_mutate -= 1\n",
    "        return 1\n",
    "      else:\n",
    "        return 0"
   ]
  },
  {
   "cell_type": "code",
   "execution_count": 4,
   "metadata": {
    "collapsed": true
   },
   "outputs": [],
   "source": [
    "from numpy.random import choice\n",
    "\n",
    "def genetic_algorithm(n=8, pop_size=30, elitism=0, mutation_chance=0.01, num_iterations=400000):\n",
    "    if n == 1 or n == 2 or n == 3 or (pop_size - elitism) % 2 != 0:\n",
    "        print('Invalid input..')\n",
    "        return False\n",
    "    \n",
    "    current_population = gen_rand_population(n, pop_size)\n",
    "    end = n * n\n",
    "    fittest = max_fitness(current_population)\n",
    "    if fittest.fitness == end:\n",
    "        print('...')\n",
    "        fittest.show()\n",
    "        return True\n",
    "\n",
    "    for i in range(0, num_iterations):\n",
    "        mutations = 0          \n",
    "        new_population = []\n",
    " \n",
    "        if elitism > 0:\n",
    "            sort(current_population, True)\n",
    "            for j in range(0, elitism):\n",
    "                new_population.append(current_population[j])\n",
    "        \n",
    "        wheel = prob_distr(current_population)\n",
    "        while len(new_population) < pop_size:\n",
    "            parent1, parent2 = choice(current_population, 2, p=wheel, replace=False)\n",
    "            child1, child2 = crossover(parent1, parent2)\n",
    "            \n",
    "            mutations += mutate_rand_incr(child1, mutation_chance)\n",
    "            mutations += mutate_rand_incr(child2, mutation_chance)\n",
    "            \n",
    "            child1.calc_fitness()\n",
    "            new_population.append(child1)\n",
    "          \n",
    "            child2.calc_fitness()\n",
    "            new_population.append(child2)\n",
    "        \n",
    "        current_population = new_population\n",
    "        fittest = max_fitness(current_population)\n",
    "        if fittest.fitness == end:\n",
    "            # end\n",
    "            print('Done!')\n",
    "            fittest.show()\n",
    "            return True\n",
    "       \n",
    "#       if i % 10000 == 0 : mutation_chance += 0.001\n",
    "        if i % 1000 == 0:\n",
    "#             fts = [x.fitness for x in current_population]\n",
    "#             print(fts)\n",
    "            print('Generation {} with {} mutations and best fitness of {}!'.format(i, mutations,  fittest.fitness))\n",
    "            \n",
    "    # failure\n",
    "    print('Failure with best achieved fitness of {}..'.format(fittest.fitness))\n",
    "    fittest.show()\n",
    "    return False"
   ]
  },
  {
   "cell_type": "code",
   "execution_count": 9,
   "metadata": {},
   "outputs": [
    {
     "name": "stdout",
     "output_type": "stream",
     "text": [
      "Generation 0 with 0 mutations and best fitness of 54!\n",
      "Generation 1000 with 0 mutations and best fitness of 62!\n",
      "Generation 2000 with 0 mutations and best fitness of 62!\n",
      "Generation 3000 with 1 mutations and best fitness of 62!\n",
      "Generation 4000 with 0 mutations and best fitness of 62!\n",
      "Generation 5000 with 0 mutations and best fitness of 62!\n",
      "Generation 6000 with 0 mutations and best fitness of 62!\n",
      "Generation 7000 with 0 mutations and best fitness of 62!\n",
      "Generation 8000 with 0 mutations and best fitness of 62!\n",
      "Generation 9000 with 0 mutations and best fitness of 62!\n",
      "Generation 10000 with 1 mutations and best fitness of 62!\n",
      "Generation 11000 with 0 mutations and best fitness of 62!\n",
      "Generation 12000 with 0 mutations and best fitness of 62!\n",
      "Generation 13000 with 1 mutations and best fitness of 62!\n",
      "Generation 14000 with 0 mutations and best fitness of 62!\n",
      "Generation 15000 with 0 mutations and best fitness of 62!\n",
      "Generation 16000 with 1 mutations and best fitness of 62!\n",
      "Generation 17000 with 0 mutations and best fitness of 62!\n",
      "Generation 18000 with 0 mutations and best fitness of 62!\n",
      "Generation 19000 with 0 mutations and best fitness of 62!\n",
      "Generation 20000 with 0 mutations and best fitness of 62!\n",
      "Generation 21000 with 0 mutations and best fitness of 62!\n",
      "Generation 22000 with 0 mutations and best fitness of 62!\n",
      "Generation 23000 with 0 mutations and best fitness of 62!\n",
      "Generation 24000 with 0 mutations and best fitness of 62!\n",
      "Generation 25000 with 0 mutations and best fitness of 62!\n",
      "Done!\n",
      "-  -  -  -  -  Q  -  -  \n",
      "-  -  -  Q  -  -  -  -  \n",
      "-  Q  -  -  -  -  -  -  \n",
      "-  -  -  -  -  -  -  Q  \n",
      "-  -  -  -  Q  -  -  -  \n",
      "-  -  -  -  -  -  Q  -  \n",
      "Q  -  -  -  -  -  -  -  \n",
      "-  -  Q  -  -  -  -  -  \n",
      "\n"
     ]
    },
    {
     "data": {
      "text/plain": [
       "True"
      ]
     },
     "execution_count": 9,
     "metadata": {},
     "output_type": "execute_result"
    }
   ],
   "source": [
    "genetic_algorithm(n=8, elitism=1, mutation_chance=0.005, pop_size=21)"
   ]
  }
 ],
 "metadata": {
  "kernelspec": {
   "display_name": "Python 3",
   "language": "python",
   "name": "python3"
  },
  "language_info": {
   "codemirror_mode": {
    "name": "ipython",
    "version": 3
   },
   "file_extension": ".py",
   "mimetype": "text/x-python",
   "name": "python",
   "nbconvert_exporter": "python",
   "pygments_lexer": "ipython3",
   "version": "3.6.3"
  }
 },
 "nbformat": 4,
 "nbformat_minor": 2
}
