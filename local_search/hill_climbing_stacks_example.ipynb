{
 "cells": [
  {
   "cell_type": "code",
   "execution_count": 39,
   "metadata": {},
   "outputs": [
    {
     "data": {
      "image/png": "[encoded data removed]",
      "text/plain": [
       "<IPython.core.display.Image object>"
      ]
     },
     "execution_count": 39,
     "metadata": {},
     "output_type": "execute_result"
    }
   ],
   "source": [
    "from IPython.display import Image\n",
    "Image(filename=\"init_goal.png\")"
   ]
  },
  {
   "cell_type": "code",
   "execution_count": 147,
   "metadata": {},
   "outputs": [],
   "source": [
    "def show(state): # lista stekova\n",
    "    counter = 0\n",
    "    for stack in state:\n",
    "        print(\"Stack \", counter, \"blocks: \", end = \" \")\n",
    "        counter += 1\n",
    "        for block in stack:\n",
    "            print(block, end=\" \")\n",
    "        print(\" \")\n",
    "    print(\"\\n\")\n",
    "\n",
    "def state_heuristics(state): \n",
    "    h = 0\n",
    "    for stack in state:\n",
    "        h += stack_heuristics(stack)\n",
    "    return h\n",
    "\n",
    "def stack_heuristics(stack):\n",
    "    stack_heuristics = 0\n",
    "    is_pos_correct = True\n",
    "    goal_start_ind = 0\n",
    "    for block in stack:\n",
    "        if is_pos_correct and (goal_stack[goal_start_ind] == block):\n",
    "            stack_heuristics += goal_start_ind\n",
    "        else:\n",
    "            stack_heuristics -= goal_start_ind\n",
    "            is_pos_correct = False\n",
    "        goal_start_ind += 1\n",
    "    \n",
    "    return stack_heuristics"
   ]
  },
  {
   "cell_type": "code",
   "execution_count": 41,
   "metadata": {},
   "outputs": [
    {
     "data": {
      "image/png": "[encoded data removed]",
      "text/plain": [
       "<IPython.core.display.Image object>"
      ]
     },
     "execution_count": 41,
     "metadata": {},
     "output_type": "execute_result"
    }
   ],
   "source": [
    "Image(filename=\"state_iterations.png\")"
   ]
  },
  {
   "cell_type": "code",
   "execution_count": 36,
   "metadata": {},
   "outputs": [],
   "source": [
    "import copy\n",
    "\n",
    "def gen_neighbors(state):\n",
    "    neighbors = []\n",
    "    # prvo sva moguća spuštanja u nove stekove\n",
    "    for i in range(len(state)):\n",
    "        if len(state[i]) > 1:\n",
    "            neighbors.append(push_to_new(state, i))\n",
    "    # onda sva moguća premeštanja sa jednog na drugi\n",
    "    for i in range(len(state)):\n",
    "        for j in range(len(state)):\n",
    "            if i != j:\n",
    "                neighbors.append(push_to_exis(state, i, j))\n",
    "                \n",
    "    return neighbors\n",
    "\n",
    "def push_to_new(state, stack_index):\n",
    "    new_state = copy.deepcopy(state) # hardcopy\n",
    "    new_stack = []\n",
    "    block = new_state[stack_index].pop()\n",
    "    new_stack.append(block)\n",
    "    new_state.append(new_stack)\n",
    "    return remove_empty(new_state)\n",
    "\n",
    "def push_to_exis(state, source_index, dest_index):\n",
    "    new_state = copy.deepcopy(state)\n",
    "    block = new_state[source_index].pop()\n",
    "    new_state[dest_index].append(block)\n",
    "    return remove_empty(new_state)\n",
    "\n",
    "def remove_empty(state):\n",
    "    for stack in state:\n",
    "        if len(stack) == 0:\n",
    "            state.remove(stack)\n",
    "    return state\n"
   ]
  },
  {
   "cell_type": "code",
   "execution_count": 143,
   "metadata": {
    "collapsed": true
   },
   "outputs": [],
   "source": [
    "def hillclimb(x, f, neighbors, steps=10000, debugging=False):\n",
    "    fx = f(x)\n",
    "    neighborhood = iter(neighbors(x))\n",
    "    for i in range(steps):\n",
    "        x2 = next(neighborhood)\n",
    "        fx2 = f(x2)\n",
    "        if fx2 > fx:\n",
    "            x, fx = x2, fx2\n",
    "            neighborhood = iter(neighbors(x))\n",
    "    if debugging:\n",
    "        print(\"hillclimb:\", x, int(fx))\n",
    "    return x \n",
    "\n",
    "def hillclimb2(x, f, neighbors, steps=100, debugging=False):\n",
    "    fx = f(x)\n",
    "    neighborhood = neighbors(x)\n",
    "    ind = 0;\n",
    "    for i in range(steps):\n",
    "        if ind == len(neighborhood): return None # fail\n",
    "        x2 = neighborhood[ind]\n",
    "        fx2 = f(x2)\n",
    "        ind += 1\n",
    "        if fx2 > fx:\n",
    "            x, fx = x2, fx2\n",
    "            if(debugging): show(x)\n",
    "            if x[0] == goal_stack: return x # kraj algoritma, dostignuto ciljno stanje blokova (na poziciji 0 zbog remove_empty)\n",
    "            neighborhood = neighbors(x)\n",
    "            ind = 0"
   ]
  },
  {
   "cell_type": "code",
   "execution_count": 149,
   "metadata": {},
   "outputs": [
    {
     "name": "stdout",
     "output_type": "stream",
     "text": [
      "Stack  0 blocks:  B C D  \n",
      "Stack  1 blocks:  A  \n",
      "\n",
      "\n",
      "Stack  0 blocks:  B C  \n",
      "Stack  1 blocks:  A  \n",
      "Stack  2 blocks:  D  \n",
      "\n",
      "\n",
      "Stack  0 blocks:  B  \n",
      "Stack  1 blocks:  A  \n",
      "Stack  2 blocks:  D  \n",
      "Stack  3 blocks:  C  \n",
      "\n",
      "\n",
      "Stack  0 blocks:  A B  \n",
      "Stack  1 blocks:  D  \n",
      "Stack  2 blocks:  C  \n",
      "\n",
      "\n",
      "Stack  0 blocks:  A B C  \n",
      "Stack  1 blocks:  D  \n",
      "\n",
      "\n",
      "Stack  0 blocks:  A B C D  \n",
      "\n",
      "\n"
     ]
    }
   ],
   "source": [
    "start = [[\"B\", \"C\", \"D\", \"A\"]]\n",
    "goal_stack = [\"A\", \"B\", \"C\", \"D\"]\n",
    "\n",
    "result = hillclimb2(start, state_heuristics, gen_neighbors, debugging=True)\n"
   ]
  }
 ],
 "metadata": {
  "kernelspec": {
   "display_name": "Python 3",
   "language": "python",
   "name": "python3"
  },
  "language_info": {
   "codemirror_mode": {
    "name": "ipython",
    "version": 3
   },
   "file_extension": ".py",
   "mimetype": "text/x-python",
   "name": "python",
   "nbconvert_exporter": "python",
   "pygments_lexer": "ipython3",
   "version": "3.6.1"
  }
 },
 "nbformat": 4,
 "nbformat_minor": 2
}
